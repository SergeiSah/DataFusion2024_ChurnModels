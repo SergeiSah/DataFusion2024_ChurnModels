{
 "cells": [
  {
   "cell_type": "code",
   "execution_count": 1,
   "id": "8fbb93ac-9547-4f71-9fa5-6b180671698e",
   "metadata": {
    "tags": []
   },
   "outputs": [],
   "source": [
    "import pandas as pd\n",
    "\n",
    "from sklearn.model_selection import train_test_split\n",
    "from sklearn.preprocessing import RobustScaler\n",
    "from sklearn.compose import ColumnTransformer\n",
    "from sklearn.base import BaseEstimator, TransformerMixin\n",
    "\n",
    "from catboost import CatBoostClassifier, Pool, cv, to_classifier"
   ]
  },
  {
   "cell_type": "code",
   "execution_count": 2,
   "id": "90818cff-5f31-4db7-b038-ab28192d89ea",
   "metadata": {
    "tags": []
   },
   "outputs": [],
   "source": [
    "full_df = pd.read_csv('datasets/preprocessed_v0.1.csv', compression='zip', \n",
    "                      dtype={'employee_count_nm': 'category', \n",
    "                             'bankemplstatus': 'bool',\n",
    "                             'customer_age': 'category'})"
   ]
  },
  {
   "cell_type": "code",
   "execution_count": 3,
   "id": "20f3f423-904c-440b-aaf7-17a81ae4f77a",
   "metadata": {
    "tags": []
   },
   "outputs": [
    {
     "name": "stdout",
     "output_type": "stream",
     "text": [
      "<class 'pandas.core.frame.DataFrame'>\n",
      "RangeIndex: 96000 entries, 0 to 95999\n",
      "Columns: 487 entries, user_id to time\n",
      "dtypes: bool(1), category(2), float64(475), int64(8), object(1)\n",
      "memory usage: 354.8+ MB\n"
     ]
    }
   ],
   "source": [
    "full_df.info()"
   ]
  },
  {
   "cell_type": "code",
   "execution_count": 4,
   "id": "9d51b186-b4c9-4602-b64e-3d67ed9cd2c4",
   "metadata": {
    "tags": []
   },
   "outputs": [],
   "source": [
    "train = full_df[full_df['target'].notna()]\n",
    "pred = full_df[full_df['target'].isna()]"
   ]
  },
  {
   "cell_type": "code",
   "execution_count": 5,
   "id": "907705cf-fd0e-4a3c-bbd2-4f19fc12eb7c",
   "metadata": {
    "tags": []
   },
   "outputs": [],
   "source": [
    "cat_features = ['employee_count_nm', 'customer_age', 'bankemplstatus', 'report']\n",
    "cols_to_drop = ['user_id', 'target', 'time']"
   ]
  },
  {
   "cell_type": "code",
   "execution_count": 6,
   "id": "beb235ac-f690-491f-9ebc-7a0278cfc676",
   "metadata": {
    "tags": []
   },
   "outputs": [],
   "source": [
    "X = train.drop(cols_to_drop, axis=1)\n",
    "y = train['target'].astype('int8')\n",
    "\n",
    "X_pred = pred.drop(cols_to_drop, axis=1)"
   ]
  },
  {
   "cell_type": "code",
   "execution_count": 7,
   "id": "a10d340a-a0de-4751-91dc-936b8f599612",
   "metadata": {
    "tags": []
   },
   "outputs": [],
   "source": [
    "num_cols = X.select_dtypes(include=['int64', 'float64']).columns"
   ]
  },
  {
   "cell_type": "markdown",
   "id": "3f83e15b-28f0-462f-90f0-82ef79aa1821",
   "metadata": {},
   "source": [
    "# Разбиение на train и test"
   ]
  },
  {
   "cell_type": "code",
   "execution_count": 8,
   "id": "0266306b-fd27-4c8e-9667-2bfcd7fb70eb",
   "metadata": {
    "tags": []
   },
   "outputs": [],
   "source": [
    "class GroupFeatures(BaseEstimator, TransformerMixin):\n",
    "    \n",
    "    def __init__(self):\n",
    "        self.feature_groups = [\n",
    "            ('report', 'customer_age'),\n",
    "            ('report', 'employee_count_nm'),\n",
    "            ('customer_age', 'employee_count_nm')\n",
    "        ]\n",
    "        \n",
    "        self.tendencies = ['count', 'sum', 'mean', 'std']\n",
    "        \n",
    "    def fit(self, X, y):\n",
    "        full_df = pd.concat([X, y], axis=1)\n",
    "        self.tables = {}\n",
    "        \n",
    "        for feature_1, feature_2 in self.feature_groups:\n",
    "            df = full_df[full_df.target.notna()].groupby([feature_1, feature_2], observed=True).agg({'target': self.tendencies}).reset_index()\n",
    "            df.columns = [feature_1, feature_2] + [f'group_{feature_1}_{feature_2}_{tendency}' for _, tendency in df.columns[2:]]\n",
    "            self.tables[(feature_1, feature_2)] = df\n",
    "        \n",
    "        return self\n",
    "            \n",
    "    def transform(self, X, y=None):\n",
    "        for feature_1, feature_2 in self.feature_groups:\n",
    "            X = X.merge(self.tables[(feature_1, feature_2)], on=[feature_1, feature_2], how='left')\n",
    "            \n",
    "        for col in X.select_dtypes(include='object').columns:\n",
    "            X[col] = pd.to_numeric(X[col])\n",
    "            \n",
    "        return X"
   ]
  },
  {
   "cell_type": "code",
   "execution_count": 9,
   "id": "421cfbd8-fb21-4312-baab-33d50d3f2d97",
   "metadata": {
    "tags": []
   },
   "outputs": [],
   "source": [
    "X_train, X_test, y_train, y_test = train_test_split(X, y, test_size=0.2, random_state=42, stratify=y)"
   ]
  },
  {
   "cell_type": "code",
   "execution_count": 10,
   "id": "c0570798-fa8d-47e8-b509-e1d1f8d9f212",
   "metadata": {
    "tags": []
   },
   "outputs": [],
   "source": [
    "pool_train = Pool(X_train, y_train, cat_features=cat_features)\n",
    "pool_test = Pool(X_test, y_test, cat_features=cat_features)\n",
    "pool_full = Pool(X, y, cat_features=cat_features)"
   ]
  },
  {
   "cell_type": "markdown",
   "id": "9f4f9a4a-9c8a-4429-ac7b-2f2c2ddbffee",
   "metadata": {},
   "source": [
    "# Simple CatBoost"
   ]
  },
  {
   "cell_type": "markdown",
   "id": "ef932e6f-74bd-4a16-b27d-7c923604d9e8",
   "metadata": {},
   "source": [
    "## First training"
   ]
  },
  {
   "cell_type": "code",
   "execution_count": 11,
   "id": "2683df06-93da-43ac-a887-e4799e2a6d99",
   "metadata": {
    "tags": []
   },
   "outputs": [
    {
     "name": "stdout",
     "output_type": "stream",
     "text": [
      "Learning rate set to 0.070226\n",
      "0:\ttest: 0.6365865\tbest: 0.6365865 (0)\ttotal: 232ms\tremaining: 5m 48s\n",
      "100:\ttest: 0.7609077\tbest: 0.7609077 (100)\ttotal: 7.53s\tremaining: 1m 44s\n",
      "200:\ttest: 0.7647704\tbest: 0.7648639 (199)\ttotal: 14.7s\tremaining: 1m 34s\n",
      "300:\ttest: 0.7658206\tbest: 0.7660094 (287)\ttotal: 21.7s\tremaining: 1m 26s\n",
      "400:\ttest: 0.7671353\tbest: 0.7675044 (385)\ttotal: 28.8s\tremaining: 1m 18s\n",
      "500:\ttest: 0.7668038\tbest: 0.7675044 (385)\ttotal: 36s\tremaining: 1m 11s\n",
      "600:\ttest: 0.7672499\tbest: 0.7678320 (561)\ttotal: 43.2s\tremaining: 1m 4s\n",
      "700:\ttest: 0.7667170\tbest: 0.7678320 (561)\ttotal: 50.9s\tremaining: 58s\n",
      "Stopped by overfitting detector  (200 iterations wait)\n",
      "\n",
      "bestTest = 0.7678319519\n",
      "bestIteration = 561\n",
      "\n",
      "Shrink model to first 562 iterations.\n"
     ]
    },
    {
     "data": {
      "text/plain": [
       "<catboost.core.CatBoostClassifier at 0x16d567076a0>"
      ]
     },
     "execution_count": 11,
     "metadata": {},
     "output_type": "execute_result"
    }
   ],
   "source": [
    "simple_catb = CatBoostClassifier(random_state=42, eval_metric='AUC', iterations=1500)\n",
    "\n",
    "simple_catb.fit(pool_train, \n",
    "                eval_set=pool_test, \n",
    "                verbose=100, \n",
    "                early_stopping_rounds=200\n",
    "               )"
   ]
  },
  {
   "cell_type": "markdown",
   "id": "da0def22-ae73-4305-ac90-87d8ece4e4ad",
   "metadata": {},
   "source": [
    "## Training on most important features"
   ]
  },
  {
   "cell_type": "code",
   "execution_count": 12,
   "id": "ebdc2223-8c59-4111-ae05-ebedf15e074f",
   "metadata": {
    "tags": []
   },
   "outputs": [],
   "source": [
    "importances = pd.DataFrame({\n",
    "    'feature': simple_catb.feature_names_,\n",
    "    'importance': simple_catb.feature_importances_\n",
    "}).sort_values(by='importance', ascending=False)"
   ]
  },
  {
   "cell_type": "code",
   "execution_count": 13,
   "id": "926e6d21-acd7-44c3-8f9c-9fb857953078",
   "metadata": {
    "tags": []
   },
   "outputs": [
    {
     "data": {
      "text/html": [
       "<div>\n",
       "<style scoped>\n",
       "    .dataframe tbody tr th:only-of-type {\n",
       "        vertical-align: middle;\n",
       "    }\n",
       "\n",
       "    .dataframe tbody tr th {\n",
       "        vertical-align: top;\n",
       "    }\n",
       "\n",
       "    .dataframe thead th {\n",
       "        text-align: right;\n",
       "    }\n",
       "</style>\n",
       "<table border=\"1\" class=\"dataframe\">\n",
       "  <thead>\n",
       "    <tr style=\"text-align: right;\">\n",
       "      <th></th>\n",
       "      <th>feature</th>\n",
       "      <th>importance</th>\n",
       "    </tr>\n",
       "  </thead>\n",
       "  <tbody>\n",
       "    <tr>\n",
       "      <th>1</th>\n",
       "      <td>employee_count_nm</td>\n",
       "      <td>5.820256</td>\n",
       "    </tr>\n",
       "    <tr>\n",
       "      <th>3</th>\n",
       "      <td>customer_age</td>\n",
       "      <td>3.226406</td>\n",
       "    </tr>\n",
       "    <tr>\n",
       "      <th>163</th>\n",
       "      <td>total_days_to_report_std</td>\n",
       "      <td>2.596091</td>\n",
       "    </tr>\n",
       "    <tr>\n",
       "      <th>162</th>\n",
       "      <td>total_days_to_report_min</td>\n",
       "      <td>1.868281</td>\n",
       "    </tr>\n",
       "    <tr>\n",
       "      <th>20</th>\n",
       "      <td>total_tran_sum_by_month_std</td>\n",
       "      <td>1.651018</td>\n",
       "    </tr>\n",
       "    <tr>\n",
       "      <th>482</th>\n",
       "      <td>neg_days_to_report_min</td>\n",
       "      <td>1.508026</td>\n",
       "    </tr>\n",
       "    <tr>\n",
       "      <th>483</th>\n",
       "      <td>neg_days_to_report_std</td>\n",
       "      <td>1.207138</td>\n",
       "    </tr>\n",
       "    <tr>\n",
       "      <th>159</th>\n",
       "      <td>total_days_to_report_mean</td>\n",
       "      <td>1.203433</td>\n",
       "    </tr>\n",
       "    <tr>\n",
       "      <th>130</th>\n",
       "      <td>total_tran_month_nunique</td>\n",
       "      <td>1.120772</td>\n",
       "    </tr>\n",
       "    <tr>\n",
       "      <th>0</th>\n",
       "      <td>report</td>\n",
       "      <td>1.106544</td>\n",
       "    </tr>\n",
       "    <tr>\n",
       "      <th>479</th>\n",
       "      <td>neg_days_to_report_mean</td>\n",
       "      <td>1.084037</td>\n",
       "    </tr>\n",
       "    <tr>\n",
       "      <th>341</th>\n",
       "      <td>neg_mcc_nunique</td>\n",
       "      <td>1.019561</td>\n",
       "    </tr>\n",
       "    <tr>\n",
       "      <th>338</th>\n",
       "      <td>neg_tran_sum_by_month_max</td>\n",
       "      <td>0.904835</td>\n",
       "    </tr>\n",
       "    <tr>\n",
       "      <th>337</th>\n",
       "      <td>neg_tran_sum_by_month_median</td>\n",
       "      <td>0.863410</td>\n",
       "    </tr>\n",
       "    <tr>\n",
       "      <th>17</th>\n",
       "      <td>total_tran_sum_by_month_median</td>\n",
       "      <td>0.857955</td>\n",
       "    </tr>\n",
       "    <tr>\n",
       "      <th>21</th>\n",
       "      <td>total_mcc_nunique</td>\n",
       "      <td>0.785912</td>\n",
       "    </tr>\n",
       "    <tr>\n",
       "      <th>212</th>\n",
       "      <td>pos_mcc_0_median</td>\n",
       "      <td>0.730643</td>\n",
       "    </tr>\n",
       "    <tr>\n",
       "      <th>287</th>\n",
       "      <td>pos_currency_0_count</td>\n",
       "      <td>0.727193</td>\n",
       "    </tr>\n",
       "    <tr>\n",
       "      <th>161</th>\n",
       "      <td>total_days_to_report_max</td>\n",
       "      <td>0.695741</td>\n",
       "    </tr>\n",
       "    <tr>\n",
       "      <th>19</th>\n",
       "      <td>total_tran_sum_by_month_min</td>\n",
       "      <td>0.683762</td>\n",
       "    </tr>\n",
       "  </tbody>\n",
       "</table>\n",
       "</div>"
      ],
      "text/plain": [
       "                            feature  importance\n",
       "1                 employee_count_nm    5.820256\n",
       "3                      customer_age    3.226406\n",
       "163        total_days_to_report_std    2.596091\n",
       "162        total_days_to_report_min    1.868281\n",
       "20      total_tran_sum_by_month_std    1.651018\n",
       "482          neg_days_to_report_min    1.508026\n",
       "483          neg_days_to_report_std    1.207138\n",
       "159       total_days_to_report_mean    1.203433\n",
       "130        total_tran_month_nunique    1.120772\n",
       "0                            report    1.106544\n",
       "479         neg_days_to_report_mean    1.084037\n",
       "341                 neg_mcc_nunique    1.019561\n",
       "338       neg_tran_sum_by_month_max    0.904835\n",
       "337    neg_tran_sum_by_month_median    0.863410\n",
       "17   total_tran_sum_by_month_median    0.857955\n",
       "21                total_mcc_nunique    0.785912\n",
       "212                pos_mcc_0_median    0.730643\n",
       "287            pos_currency_0_count    0.727193\n",
       "161        total_days_to_report_max    0.695741\n",
       "19      total_tran_sum_by_month_min    0.683762"
      ]
     },
     "execution_count": 13,
     "metadata": {},
     "output_type": "execute_result"
    }
   ],
   "source": [
    "importances.head(20)"
   ]
  },
  {
   "cell_type": "code",
   "execution_count": 14,
   "id": "15807b7d-ea86-439f-9ee7-b556cd95b504",
   "metadata": {
    "tags": []
   },
   "outputs": [
    {
     "data": {
      "text/plain": [
       "100"
      ]
     },
     "execution_count": 14,
     "metadata": {},
     "output_type": "execute_result"
    }
   ],
   "source": [
    "threshold = 0.3\n",
    "\n",
    "important_features = importances[importances['importance'] > threshold]['feature'].values\n",
    "important_features.shape[0]"
   ]
  },
  {
   "cell_type": "code",
   "execution_count": 15,
   "id": "8f25b85d-a1f8-4195-b906-494c31adec8a",
   "metadata": {
    "tags": []
   },
   "outputs": [],
   "source": [
    "gf = GroupFeatures()\n",
    "\n",
    "gf.fit(X_train[important_features], y_train)\n",
    "X_train_imp = gf.transform(X_train[important_features])\n",
    "X_test_imp = gf.transform(X_test[important_features])\n",
    "\n",
    "gf.fit(X[important_features], y)\n",
    "X_imp = gf.transform(X[important_features])\n",
    "X_pred_imp = gf.transform(X_pred[important_features])"
   ]
  },
  {
   "cell_type": "code",
   "execution_count": 16,
   "id": "e4da667d-23b6-48bf-bb51-7dbf57fb5649",
   "metadata": {
    "tags": []
   },
   "outputs": [],
   "source": [
    "cat_features_important = [x for x in cat_features if x in important_features]\n",
    "\n",
    "pool_train_important = Pool(X_train_imp, y_train, cat_features=cat_features_important)\n",
    "pool_test_important = Pool(X_test_imp, y_test, cat_features=cat_features_important)\n",
    "pool_full_important = Pool(X_imp, y, cat_features=cat_features_important)"
   ]
  },
  {
   "cell_type": "code",
   "execution_count": 17,
   "id": "5cef46a8-2945-4270-8e82-4cb6bace2472",
   "metadata": {
    "tags": []
   },
   "outputs": [
    {
     "name": "stdout",
     "output_type": "stream",
     "text": [
      "Learning rate set to 0.070226\n",
      "0:\ttest: 0.6847585\tbest: 0.6847585 (0)\ttotal: 50.2ms\tremaining: 1m 15s\n",
      "100:\ttest: 0.7626197\tbest: 0.7626197 (100)\ttotal: 4.89s\tremaining: 1m 7s\n",
      "200:\ttest: 0.7663012\tbest: 0.7663575 (195)\ttotal: 9.66s\tremaining: 1m 2s\n",
      "300:\ttest: 0.7671627\tbest: 0.7673055 (299)\ttotal: 14.4s\tremaining: 57.5s\n",
      "400:\ttest: 0.7669664\tbest: 0.7677150 (355)\ttotal: 19.1s\tremaining: 52.4s\n",
      "500:\ttest: 0.7655297\tbest: 0.7677150 (355)\ttotal: 23.8s\tremaining: 47.5s\n",
      "Stopped by overfitting detector  (200 iterations wait)\n",
      "\n",
      "bestTest = 0.7677150049\n",
      "bestIteration = 355\n",
      "\n",
      "Shrink model to first 356 iterations.\n"
     ]
    },
    {
     "data": {
      "text/plain": [
       "<catboost.core.CatBoostClassifier at 0x16da680a9b0>"
      ]
     },
     "execution_count": 17,
     "metadata": {},
     "output_type": "execute_result"
    }
   ],
   "source": [
    "simple_catb_important = CatBoostClassifier(random_state=42, eval_metric='AUC', iterations=1500)\n",
    "\n",
    "simple_catb_important.fit(pool_train_important, \n",
    "                          eval_set=pool_test_important, \n",
    "                          verbose=100, \n",
    "                          early_stopping_rounds=200\n",
    "                         )"
   ]
  },
  {
   "cell_type": "code",
   "execution_count": 18,
   "id": "f86ccf24-f379-40f4-a142-d12543dd172f",
   "metadata": {
    "tags": []
   },
   "outputs": [
    {
     "name": "stdout",
     "output_type": "stream",
     "text": [
      "Training on fold [0/10]\n",
      "0:\ttest: 0.6719529\tbest: 0.6719529 (0)\ttotal: 56.5ms\tremaining: 1m 24s\n",
      "200:\ttest: 0.7684655\tbest: 0.7684655 (200)\ttotal: 10.6s\tremaining: 1m 8s\n",
      "400:\ttest: 0.7730898\tbest: 0.7731081 (399)\ttotal: 21s\tremaining: 57.6s\n",
      "600:\ttest: 0.7751679\tbest: 0.7753181 (561)\ttotal: 31.4s\tremaining: 47s\n",
      "800:\ttest: 0.7761894\tbest: 0.7761894 (800)\ttotal: 41.9s\tremaining: 36.5s\n",
      "1000:\ttest: 0.7760367\tbest: 0.7768098 (895)\ttotal: 52.2s\tremaining: 26s\n",
      "\n",
      "bestTest = 0.776809765\n",
      "bestIteration = 895\n",
      "\n",
      "Training on fold [1/10]\n",
      "0:\ttest: 0.6792030\tbest: 0.6792030 (0)\ttotal: 54.4ms\tremaining: 1m 21s\n",
      "200:\ttest: 0.7481063\tbest: 0.7482490 (199)\ttotal: 10.9s\tremaining: 1m 10s\n",
      "400:\ttest: 0.7521484\tbest: 0.7523663 (350)\ttotal: 21.8s\tremaining: 59.9s\n",
      "600:\ttest: 0.7529990\tbest: 0.7533794 (570)\ttotal: 32.6s\tremaining: 48.8s\n",
      "800:\ttest: 0.7546566\tbest: 0.7547196 (799)\ttotal: 43.4s\tremaining: 37.9s\n",
      "1000:\ttest: 0.7557991\tbest: 0.7561726 (957)\ttotal: 54.3s\tremaining: 27.1s\n",
      "\n",
      "bestTest = 0.7561725771\n",
      "bestIteration = 957\n",
      "\n",
      "Training on fold [2/10]\n",
      "0:\ttest: 0.6684819\tbest: 0.6684819 (0)\ttotal: 71.6ms\tremaining: 1m 47s\n",
      "200:\ttest: 0.7490756\tbest: 0.7490756 (200)\ttotal: 11s\tremaining: 1m 11s\n",
      "400:\ttest: 0.7536008\tbest: 0.7536008 (400)\ttotal: 22s\tremaining: 1m\n",
      "600:\ttest: 0.7563546\tbest: 0.7563980 (598)\ttotal: 33.5s\tremaining: 50.1s\n",
      "800:\ttest: 0.7572473\tbest: 0.7573787 (769)\ttotal: 44.9s\tremaining: 39.2s\n",
      "1000:\ttest: 0.7577654\tbest: 0.7578724 (975)\ttotal: 56.7s\tremaining: 28.2s\n",
      "\n",
      "bestTest = 0.7578724251\n",
      "bestIteration = 975\n",
      "\n",
      "Training on fold [3/10]\n",
      "0:\ttest: 0.6726825\tbest: 0.6726825 (0)\ttotal: 63.1ms\tremaining: 1m 34s\n",
      "200:\ttest: 0.7506063\tbest: 0.7506063 (200)\ttotal: 13s\tremaining: 1m 24s\n",
      "400:\ttest: 0.7575253\tbest: 0.7576292 (399)\ttotal: 23.9s\tremaining: 1m 5s\n",
      "600:\ttest: 0.7591303\tbest: 0.7591303 (600)\ttotal: 34.6s\tremaining: 51.8s\n",
      "800:\ttest: 0.7593545\tbest: 0.7596474 (778)\ttotal: 45.4s\tremaining: 39.6s\n",
      "1000:\ttest: 0.7594538\tbest: 0.7597848 (925)\ttotal: 56.1s\tremaining: 28s\n",
      "\n",
      "bestTest = 0.7597847709\n",
      "bestIteration = 925\n",
      "\n",
      "Training on fold [4/10]\n",
      "0:\ttest: 0.6736204\tbest: 0.6736204 (0)\ttotal: 66.2ms\tremaining: 1m 39s\n",
      "200:\ttest: 0.7711522\tbest: 0.7711522 (200)\ttotal: 11s\tremaining: 1m 11s\n",
      "400:\ttest: 0.7787978\tbest: 0.7787978 (400)\ttotal: 21.8s\tremaining: 59.7s\n",
      "600:\ttest: 0.7801228\tbest: 0.7801987 (595)\ttotal: 32.5s\tremaining: 48.6s\n",
      "800:\ttest: 0.7802626\tbest: 0.7806689 (711)\ttotal: 43.1s\tremaining: 37.6s\n",
      "\n",
      "bestTest = 0.7806689436\n",
      "bestIteration = 711\n",
      "\n",
      "Training on fold [5/10]\n",
      "0:\ttest: 0.6828107\tbest: 0.6828107 (0)\ttotal: 83.4ms\tremaining: 2m 4s\n",
      "200:\ttest: 0.7677683\tbest: 0.7677683 (200)\ttotal: 11.1s\tremaining: 1m 11s\n",
      "400:\ttest: 0.7738315\tbest: 0.7738315 (400)\ttotal: 21.7s\tremaining: 59.5s\n",
      "600:\ttest: 0.7737219\tbest: 0.7741071 (556)\ttotal: 32.6s\tremaining: 48.7s\n",
      "\n",
      "bestTest = 0.7741071282\n",
      "bestIteration = 556\n",
      "\n",
      "Training on fold [6/10]\n",
      "0:\ttest: 0.6815518\tbest: 0.6815518 (0)\ttotal: 87.5ms\tremaining: 2m 11s\n",
      "200:\ttest: 0.7723408\tbest: 0.7724171 (198)\ttotal: 11.2s\tremaining: 1m 12s\n",
      "400:\ttest: 0.7751726\tbest: 0.7751918 (393)\ttotal: 22.7s\tremaining: 1m 2s\n",
      "600:\ttest: 0.7766983\tbest: 0.7767216 (595)\ttotal: 33.7s\tremaining: 50.4s\n",
      "800:\ttest: 0.7765635\tbest: 0.7770422 (737)\ttotal: 44.5s\tremaining: 38.8s\n",
      "\n",
      "bestTest = 0.7770422131\n",
      "bestIteration = 737\n",
      "\n",
      "Training on fold [7/10]\n",
      "0:\ttest: 0.6876753\tbest: 0.6876753 (0)\ttotal: 55.5ms\tremaining: 1m 23s\n",
      "200:\ttest: 0.7776537\tbest: 0.7776537 (200)\ttotal: 11.4s\tremaining: 1m 13s\n",
      "400:\ttest: 0.7824827\tbest: 0.7825890 (391)\ttotal: 22.4s\tremaining: 1m 1s\n",
      "600:\ttest: 0.7833978\tbest: 0.7835325 (506)\ttotal: 33.3s\tremaining: 49.8s\n",
      "800:\ttest: 0.7848303\tbest: 0.7848922 (776)\ttotal: 44.3s\tremaining: 38.7s\n",
      "1000:\ttest: 0.7862521\tbest: 0.7863648 (982)\ttotal: 55.2s\tremaining: 27.5s\n",
      "1200:\ttest: 0.7876942\tbest: 0.7879557 (1127)\ttotal: 1m 6s\tremaining: 16.5s\n",
      "\n",
      "bestTest = 0.7879557412\n",
      "bestIteration = 1127\n",
      "\n",
      "Training on fold [8/10]\n",
      "0:\ttest: 0.6685816\tbest: 0.6685816 (0)\ttotal: 57.4ms\tremaining: 1m 26s\n",
      "200:\ttest: 0.7599854\tbest: 0.7599854 (200)\ttotal: 11.3s\tremaining: 1m 12s\n",
      "400:\ttest: 0.7656058\tbest: 0.7656058 (400)\ttotal: 22.3s\tremaining: 1m 1s\n",
      "600:\ttest: 0.7667802\tbest: 0.7668957 (502)\ttotal: 33.2s\tremaining: 49.6s\n",
      "800:\ttest: 0.7682875\tbest: 0.7682875 (800)\ttotal: 44s\tremaining: 38.4s\n",
      "1000:\ttest: 0.7687362\tbest: 0.7689076 (985)\ttotal: 54.9s\tremaining: 27.4s\n",
      "1200:\ttest: 0.7697201\tbest: 0.7697201 (1200)\ttotal: 1m 5s\tremaining: 16.4s\n",
      "1400:\ttest: 0.7699864\tbest: 0.7701357 (1387)\ttotal: 1m 16s\tremaining: 5.42s\n",
      "1499:\ttest: 0.7704604\tbest: 0.7705399 (1487)\ttotal: 1m 22s\tremaining: 0us\n",
      "\n",
      "bestTest = 0.7705398687\n",
      "bestIteration = 1487\n",
      "\n",
      "Training on fold [9/10]\n",
      "0:\ttest: 0.6816291\tbest: 0.6816291 (0)\ttotal: 61.8ms\tremaining: 1m 32s\n",
      "200:\ttest: 0.7589113\tbest: 0.7589113 (200)\ttotal: 11.3s\tremaining: 1m 13s\n",
      "400:\ttest: 0.7636990\tbest: 0.7637132 (397)\ttotal: 22.3s\tremaining: 1m 1s\n",
      "600:\ttest: 0.7646125\tbest: 0.7650820 (570)\ttotal: 33.4s\tremaining: 50s\n",
      "\n",
      "bestTest = 0.7650819866\n",
      "bestIteration = 570\n",
      "\n"
     ]
    }
   ],
   "source": [
    "res_important, models_important = cv(pool_full_important, params={'cat_features': cat_features_important,\n",
    "                                                 'eval_metric': 'AUC', \n",
    "                                                 'loss_function': 'Logloss',\n",
    "                                                 'iterations': 1500,\n",
    "                                                 'random_state': 42}, \n",
    "                                       verbose=200, \n",
    "                                       stratified=True, \n",
    "                                       early_stopping_rounds=200, \n",
    "                                       seed=42, \n",
    "                                       return_models=True,\n",
    "                                       fold_count=10)"
   ]
  },
  {
   "cell_type": "code",
   "execution_count": 19,
   "id": "b5808156-6227-49d7-81aa-2b3e7ef26b35",
   "metadata": {
    "tags": []
   },
   "outputs": [
    {
     "data": {
      "text/html": [
       "<div>\n",
       "<style scoped>\n",
       "    .dataframe tbody tr th:only-of-type {\n",
       "        vertical-align: middle;\n",
       "    }\n",
       "\n",
       "    .dataframe tbody tr th {\n",
       "        vertical-align: top;\n",
       "    }\n",
       "\n",
       "    .dataframe thead th {\n",
       "        text-align: right;\n",
       "    }\n",
       "</style>\n",
       "<table border=\"1\" class=\"dataframe\">\n",
       "  <thead>\n",
       "    <tr style=\"text-align: right;\">\n",
       "      <th></th>\n",
       "      <th>iterations</th>\n",
       "      <th>test-AUC-mean</th>\n",
       "      <th>test-AUC-std</th>\n",
       "      <th>test-Logloss-mean</th>\n",
       "      <th>test-Logloss-std</th>\n",
       "      <th>train-Logloss-mean</th>\n",
       "      <th>train-Logloss-std</th>\n",
       "    </tr>\n",
       "  </thead>\n",
       "  <tbody>\n",
       "    <tr>\n",
       "      <th>0</th>\n",
       "      <td>0</td>\n",
       "      <td>0.676819</td>\n",
       "      <td>0.006611</td>\n",
       "      <td>0.661034</td>\n",
       "      <td>0.000166</td>\n",
       "      <td>0.661010</td>\n",
       "      <td>0.000150</td>\n",
       "    </tr>\n",
       "    <tr>\n",
       "      <th>1</th>\n",
       "      <td>1</td>\n",
       "      <td>0.697336</td>\n",
       "      <td>0.005350</td>\n",
       "      <td>0.631374</td>\n",
       "      <td>0.000328</td>\n",
       "      <td>0.631322</td>\n",
       "      <td>0.000329</td>\n",
       "    </tr>\n",
       "    <tr>\n",
       "      <th>2</th>\n",
       "      <td>2</td>\n",
       "      <td>0.711190</td>\n",
       "      <td>0.006704</td>\n",
       "      <td>0.603968</td>\n",
       "      <td>0.000420</td>\n",
       "      <td>0.603878</td>\n",
       "      <td>0.000307</td>\n",
       "    </tr>\n",
       "    <tr>\n",
       "      <th>3</th>\n",
       "      <td>3</td>\n",
       "      <td>0.713398</td>\n",
       "      <td>0.008483</td>\n",
       "      <td>0.578835</td>\n",
       "      <td>0.000271</td>\n",
       "      <td>0.578710</td>\n",
       "      <td>0.000165</td>\n",
       "    </tr>\n",
       "    <tr>\n",
       "      <th>4</th>\n",
       "      <td>4</td>\n",
       "      <td>0.714619</td>\n",
       "      <td>0.009388</td>\n",
       "      <td>0.556060</td>\n",
       "      <td>0.000470</td>\n",
       "      <td>0.555911</td>\n",
       "      <td>0.000558</td>\n",
       "    </tr>\n",
       "    <tr>\n",
       "      <th>...</th>\n",
       "      <td>...</td>\n",
       "      <td>...</td>\n",
       "      <td>...</td>\n",
       "      <td>...</td>\n",
       "      <td>...</td>\n",
       "      <td>...</td>\n",
       "      <td>...</td>\n",
       "    </tr>\n",
       "    <tr>\n",
       "      <th>1495</th>\n",
       "      <td>1495</td>\n",
       "      <td>0.769828</td>\n",
       "      <td>0.010538</td>\n",
       "      <td>0.245601</td>\n",
       "      <td>0.002991</td>\n",
       "      <td>0.206628</td>\n",
       "      <td>0.007720</td>\n",
       "    </tr>\n",
       "    <tr>\n",
       "      <th>1496</th>\n",
       "      <td>1496</td>\n",
       "      <td>0.769820</td>\n",
       "      <td>0.010538</td>\n",
       "      <td>0.245602</td>\n",
       "      <td>0.002990</td>\n",
       "      <td>0.206624</td>\n",
       "      <td>0.007727</td>\n",
       "    </tr>\n",
       "    <tr>\n",
       "      <th>1497</th>\n",
       "      <td>1497</td>\n",
       "      <td>0.769827</td>\n",
       "      <td>0.010538</td>\n",
       "      <td>0.245600</td>\n",
       "      <td>0.002992</td>\n",
       "      <td>0.206619</td>\n",
       "      <td>0.007736</td>\n",
       "    </tr>\n",
       "    <tr>\n",
       "      <th>1498</th>\n",
       "      <td>1498</td>\n",
       "      <td>0.769830</td>\n",
       "      <td>0.010539</td>\n",
       "      <td>0.245601</td>\n",
       "      <td>0.002991</td>\n",
       "      <td>0.206617</td>\n",
       "      <td>0.007740</td>\n",
       "    </tr>\n",
       "    <tr>\n",
       "      <th>1499</th>\n",
       "      <td>1499</td>\n",
       "      <td>0.769829</td>\n",
       "      <td>0.010539</td>\n",
       "      <td>0.245600</td>\n",
       "      <td>0.002992</td>\n",
       "      <td>0.206615</td>\n",
       "      <td>0.007743</td>\n",
       "    </tr>\n",
       "  </tbody>\n",
       "</table>\n",
       "<p>1500 rows × 7 columns</p>\n",
       "</div>"
      ],
      "text/plain": [
       "      iterations  test-AUC-mean  test-AUC-std  test-Logloss-mean  \\\n",
       "0              0       0.676819      0.006611           0.661034   \n",
       "1              1       0.697336      0.005350           0.631374   \n",
       "2              2       0.711190      0.006704           0.603968   \n",
       "3              3       0.713398      0.008483           0.578835   \n",
       "4              4       0.714619      0.009388           0.556060   \n",
       "...          ...            ...           ...                ...   \n",
       "1495        1495       0.769828      0.010538           0.245601   \n",
       "1496        1496       0.769820      0.010538           0.245602   \n",
       "1497        1497       0.769827      0.010538           0.245600   \n",
       "1498        1498       0.769830      0.010539           0.245601   \n",
       "1499        1499       0.769829      0.010539           0.245600   \n",
       "\n",
       "      test-Logloss-std  train-Logloss-mean  train-Logloss-std  \n",
       "0             0.000166            0.661010           0.000150  \n",
       "1             0.000328            0.631322           0.000329  \n",
       "2             0.000420            0.603878           0.000307  \n",
       "3             0.000271            0.578710           0.000165  \n",
       "4             0.000470            0.555911           0.000558  \n",
       "...                ...                 ...                ...  \n",
       "1495          0.002991            0.206628           0.007720  \n",
       "1496          0.002990            0.206624           0.007727  \n",
       "1497          0.002992            0.206619           0.007736  \n",
       "1498          0.002991            0.206617           0.007740  \n",
       "1499          0.002992            0.206615           0.007743  \n",
       "\n",
       "[1500 rows x 7 columns]"
      ]
     },
     "execution_count": 19,
     "metadata": {},
     "output_type": "execute_result"
    }
   ],
   "source": [
    "res_important"
   ]
  },
  {
   "cell_type": "markdown",
   "id": "c311f634-7717-4c3d-8f86-1cfdd8b33290",
   "metadata": {},
   "source": [
    "threshold | cv test-AUC-mean | cv test-AUC-std | RobustScaler\n",
    "--- | --- | --- | ---\n",
    "0 | 0.7592 | 0.006959 | True\n",
    "0.01 | 0.759484 | 0.008185 | True\n",
    "0.1 | 0.760877 | 0.007068 | True\n",
    "0.2 | 0.760827 | 0.007325 | True\n",
    "0.3 | 0.761103 | 0.006596 | True\n",
    "0.4 | 0.761035 | 0.006563 | True\n",
    "0.5 | 0.759618 | 0.007116 | True\n",
    "0.3 | 0.760266 | 0.007104 | False"
   ]
  },
  {
   "cell_type": "markdown",
   "id": "d1a0f1f1-272f-475f-ba8a-b09017060032",
   "metadata": {},
   "source": [
    "## Predicting"
   ]
  },
  {
   "cell_type": "code",
   "execution_count": 22,
   "id": "df92f3aa-5460-434f-b136-5ef93e4cf46e",
   "metadata": {
    "tags": []
   },
   "outputs": [],
   "source": [
    "res = pd.DataFrame({'user_id': pred['user_id'], 'predict': 0})\n",
    "\n",
    "for model in models_important:\n",
    "    predictions = to_classifier(model).predict_proba(X_pred_imp)[:, 1]\n",
    "    res['predict'] += predictions\n",
    "    \n",
    "res['predict'] /= len(models_important)\n",
    "pd.DataFrame({'user_id': pred['user_id'], 'predict': res['predict']}).to_csv('catb.csv', index=False)"
   ]
  },
  {
   "cell_type": "code",
   "execution_count": null,
   "id": "0a37dfa0-d51e-4ea7-ad04-9cd3d8e34c1f",
   "metadata": {},
   "outputs": [],
   "source": []
  }
 ],
 "metadata": {
  "kernelspec": {
   "display_name": "survive-analysis",
   "language": "python",
   "name": "survive-analysis"
  },
  "language_info": {
   "codemirror_mode": {
    "name": "ipython",
    "version": 3
   },
   "file_extension": ".py",
   "mimetype": "text/x-python",
   "name": "python",
   "nbconvert_exporter": "python",
   "pygments_lexer": "ipython3",
   "version": "3.10.13"
  }
 },
 "nbformat": 4,
 "nbformat_minor": 5
}
