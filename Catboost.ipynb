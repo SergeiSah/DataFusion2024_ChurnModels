{
 "cells": [
  {
   "cell_type": "code",
   "execution_count": 17,
   "id": "8fbb93ac-9547-4f71-9fa5-6b180671698e",
   "metadata": {
    "tags": []
   },
   "outputs": [],
   "source": [
    "import pandas as pd\n",
    "\n",
    "from sklearn.model_selection import train_test_split\n",
    "from sklearn.preprocessing import RobustScaler\n",
    "\n",
    "from catboost import CatBoostClassifier, Pool, cv"
   ]
  },
  {
   "cell_type": "code",
   "execution_count": 2,
   "id": "90818cff-5f31-4db7-b038-ab28192d89ea",
   "metadata": {
    "tags": []
   },
   "outputs": [],
   "source": [
    "full_df = pd.read_csv('datasets/preprocessed_v0.1.csv', compression='zip', \n",
    "                      dtype={'employee_count_nm': 'category', \n",
    "                             'bankemplstatus': 'bool',\n",
    "                             'customer_age': 'category'})"
   ]
  },
  {
   "cell_type": "code",
   "execution_count": 3,
   "id": "20f3f423-904c-440b-aaf7-17a81ae4f77a",
   "metadata": {
    "tags": []
   },
   "outputs": [
    {
     "name": "stdout",
     "output_type": "stream",
     "text": [
      "<class 'pandas.core.frame.DataFrame'>\n",
      "RangeIndex: 96000 entries, 0 to 95999\n",
      "Columns: 487 entries, user_id to time\n",
      "dtypes: bool(1), category(2), float64(475), int64(8), object(1)\n",
      "memory usage: 354.8+ MB\n"
     ]
    }
   ],
   "source": [
    "full_df.info()"
   ]
  },
  {
   "cell_type": "code",
   "execution_count": 4,
   "id": "9d51b186-b4c9-4602-b64e-3d67ed9cd2c4",
   "metadata": {
    "tags": []
   },
   "outputs": [],
   "source": [
    "train = full_df[full_df['target'].notna()]\n",
    "pred = full_df[full_df['target'].isna()]"
   ]
  },
  {
   "cell_type": "code",
   "execution_count": 5,
   "id": "907705cf-fd0e-4a3c-bbd2-4f19fc12eb7c",
   "metadata": {
    "tags": []
   },
   "outputs": [],
   "source": [
    "cat_features = ['employee_count_nm', 'customer_age', 'bankemplstatus']\n",
    "cols_to_drop = ['user_id', 'report', 'target', 'time']"
   ]
  },
  {
   "cell_type": "code",
   "execution_count": 6,
   "id": "beb235ac-f690-491f-9ebc-7a0278cfc676",
   "metadata": {
    "tags": []
   },
   "outputs": [],
   "source": [
    "X = train.drop(cols_to_drop, axis=1)\n",
    "y = train['target']\n",
    "\n",
    "X_pred = pred.drop(cols_to_drop, axis=1)"
   ]
  },
  {
   "cell_type": "code",
   "execution_count": 7,
   "id": "421cfbd8-fb21-4312-baab-33d50d3f2d97",
   "metadata": {
    "tags": []
   },
   "outputs": [],
   "source": [
    "X_train, X_test, y_train, y_test = train_test_split(X, y, test_size=0.2, random_state=42, stratify=y)\n",
    "\n",
    "pool_train = Pool(X_train, y_train, cat_features=cat_features)\n",
    "pool_test = Pool(X_test, y_test, cat_features=cat_features)\n",
    "pool_full = Pool(X, y, cat_features=cat_features)"
   ]
  },
  {
   "cell_type": "markdown",
   "id": "9f4f9a4a-9c8a-4429-ac7b-2f2c2ddbffee",
   "metadata": {},
   "source": [
    "# Simple CatBoost"
   ]
  },
  {
   "cell_type": "markdown",
   "id": "ef932e6f-74bd-4a16-b27d-7c923604d9e8",
   "metadata": {},
   "source": [
    "## First training"
   ]
  },
  {
   "cell_type": "code",
   "execution_count": 8,
   "id": "2683df06-93da-43ac-a887-e4799e2a6d99",
   "metadata": {
    "tags": []
   },
   "outputs": [
    {
     "name": "stdout",
     "output_type": "stream",
     "text": [
      "Learning rate set to 0.083772\n",
      "0:\ttest: 0.6164652\tbest: 0.6164652 (0)\ttotal: 277ms\tremaining: 4m 36s\n",
      "100:\ttest: 0.7587062\tbest: 0.7588732 (98)\ttotal: 7.54s\tremaining: 1m 7s\n",
      "200:\ttest: 0.7612596\tbest: 0.7612683 (199)\ttotal: 14.6s\tremaining: 57.9s\n",
      "300:\ttest: 0.7616025\tbest: 0.7616220 (292)\ttotal: 21.8s\tremaining: 50.5s\n",
      "400:\ttest: 0.7609998\tbest: 0.7621679 (344)\ttotal: 29.1s\tremaining: 43.5s\n",
      "Stopped by overfitting detector  (100 iterations wait)\n",
      "\n",
      "bestTest = 0.7621679039\n",
      "bestIteration = 344\n",
      "\n",
      "Shrink model to first 345 iterations.\n"
     ]
    },
    {
     "data": {
      "text/plain": [
       "<catboost.core.CatBoostClassifier at 0x1ef500da9b0>"
      ]
     },
     "execution_count": 8,
     "metadata": {},
     "output_type": "execute_result"
    }
   ],
   "source": [
    "simple_catb = CatBoostClassifier(random_state=42, eval_metric='AUC')\n",
    "\n",
    "simple_catb.fit(pool_train, \n",
    "                eval_set=pool_test, \n",
    "                verbose=100, \n",
    "                early_stopping_rounds=100\n",
    "               )"
   ]
  },
  {
   "cell_type": "markdown",
   "id": "da0def22-ae73-4305-ac90-87d8ece4e4ad",
   "metadata": {},
   "source": [
    "## Training on most important features"
   ]
  },
  {
   "cell_type": "code",
   "execution_count": 9,
   "id": "ebdc2223-8c59-4111-ae05-ebedf15e074f",
   "metadata": {
    "tags": []
   },
   "outputs": [],
   "source": [
    "importances = pd.DataFrame({\n",
    "    'feature': simple_catb.feature_names_,\n",
    "    'importance': simple_catb.feature_importances_\n",
    "}).sort_values(by='importance', ascending=False)"
   ]
  },
  {
   "cell_type": "code",
   "execution_count": 10,
   "id": "15807b7d-ea86-439f-9ee7-b556cd95b504",
   "metadata": {
    "tags": []
   },
   "outputs": [
    {
     "data": {
      "text/plain": [
       "381"
      ]
     },
     "execution_count": 10,
     "metadata": {},
     "output_type": "execute_result"
    }
   ],
   "source": [
    "threshold = 0.01\n",
    "\n",
    "important_features = importances[importances['importance'] > threshold]['feature'].values\n",
    "important_features.shape[0]"
   ]
  },
  {
   "cell_type": "code",
   "execution_count": 11,
   "id": "e4da667d-23b6-48bf-bb51-7dbf57fb5649",
   "metadata": {
    "tags": []
   },
   "outputs": [],
   "source": [
    "pool_train_important = Pool(X_train[important_features], y_train, cat_features=cat_features)\n",
    "pool_test_important = Pool(X_test[important_features], y_test, cat_features=cat_features)\n",
    "pool_full_important = Pool(X[important_features], y, cat_features=cat_features)"
   ]
  },
  {
   "cell_type": "code",
   "execution_count": 12,
   "id": "5cef46a8-2945-4270-8e82-4cb6bace2472",
   "metadata": {
    "tags": []
   },
   "outputs": [
    {
     "name": "stdout",
     "output_type": "stream",
     "text": [
      "Learning rate set to 0.083772\n",
      "0:\ttest: 0.6036954\tbest: 0.6036954 (0)\ttotal: 112ms\tremaining: 1m 51s\n",
      "100:\ttest: 0.7592822\tbest: 0.7595428 (94)\ttotal: 7.12s\tremaining: 1m 3s\n",
      "200:\ttest: 0.7608876\tbest: 0.7609030 (199)\ttotal: 13.9s\tremaining: 55.4s\n",
      "300:\ttest: 0.7620376\tbest: 0.7620376 (300)\ttotal: 20.9s\tremaining: 48.6s\n",
      "400:\ttest: 0.7623511\tbest: 0.7628809 (395)\ttotal: 28.2s\tremaining: 42.1s\n",
      "500:\ttest: 0.7626669\tbest: 0.7632674 (474)\ttotal: 35.2s\tremaining: 35.1s\n",
      "600:\ttest: 0.7628073\tbest: 0.7634494 (549)\ttotal: 42.3s\tremaining: 28.1s\n",
      "Stopped by overfitting detector  (100 iterations wait)\n",
      "\n",
      "bestTest = 0.7634494347\n",
      "bestIteration = 549\n",
      "\n",
      "Shrink model to first 550 iterations.\n"
     ]
    },
    {
     "data": {
      "text/plain": [
       "<catboost.core.CatBoostClassifier at 0x1ef504238b0>"
      ]
     },
     "execution_count": 12,
     "metadata": {},
     "output_type": "execute_result"
    }
   ],
   "source": [
    "simple_catb_important = CatBoostClassifier(random_state=42, eval_metric='AUC')\n",
    "\n",
    "simple_catb_important.fit(pool_train_important, \n",
    "                          eval_set=pool_test_important, \n",
    "                          verbose=100, \n",
    "                          early_stopping_rounds=100\n",
    "                         )"
   ]
  },
  {
   "cell_type": "markdown",
   "id": "b58e1618-beb3-45e4-873c-06af4be88008",
   "metadata": {},
   "source": [
    "## Training on full dataset"
   ]
  },
  {
   "cell_type": "code",
   "execution_count": 13,
   "id": "afdf24ae-df64-4557-b401-cabbcc337339",
   "metadata": {
    "tags": []
   },
   "outputs": [
    {
     "name": "stdout",
     "output_type": "stream",
     "text": [
      "Learning rate set to 0.03222\n",
      "0:\ttotal: 114ms\tremaining: 3m 48s\n",
      "100:\ttotal: 8.58s\tremaining: 2m 41s\n",
      "200:\ttotal: 17.4s\tremaining: 2m 35s\n",
      "300:\ttotal: 25.9s\tremaining: 2m 26s\n",
      "400:\ttotal: 34s\tremaining: 2m 15s\n",
      "500:\ttotal: 42.3s\tremaining: 2m 6s\n",
      "600:\ttotal: 50.7s\tremaining: 1m 57s\n",
      "700:\ttotal: 59.1s\tremaining: 1m 49s\n",
      "800:\ttotal: 1m 7s\tremaining: 1m 41s\n",
      "900:\ttotal: 1m 16s\tremaining: 1m 32s\n",
      "1000:\ttotal: 1m 24s\tremaining: 1m 24s\n",
      "1100:\ttotal: 1m 33s\tremaining: 1m 15s\n",
      "1200:\ttotal: 1m 41s\tremaining: 1m 7s\n",
      "1300:\ttotal: 1m 49s\tremaining: 59s\n",
      "1400:\ttotal: 1m 58s\tremaining: 50.5s\n",
      "1500:\ttotal: 2m 6s\tremaining: 42.1s\n",
      "1600:\ttotal: 2m 15s\tremaining: 33.6s\n",
      "1700:\ttotal: 2m 23s\tremaining: 25.2s\n",
      "1800:\ttotal: 2m 32s\tremaining: 16.8s\n",
      "1900:\ttotal: 2m 40s\tremaining: 8.35s\n",
      "1999:\ttotal: 2m 48s\tremaining: 0us\n"
     ]
    },
    {
     "data": {
      "text/plain": [
       "<catboost.core.CatBoostClassifier at 0x1ef50423b20>"
      ]
     },
     "execution_count": 13,
     "metadata": {},
     "output_type": "execute_result"
    }
   ],
   "source": [
    "simple_catb = CatBoostClassifier(random_state=42, eval_metric='AUC', iterations=2000)\n",
    "simple_catb.fit(pool_full, verbose=100)"
   ]
  },
  {
   "cell_type": "code",
   "execution_count": 14,
   "id": "458655d1-cfbf-40e6-ac7e-8758352862de",
   "metadata": {
    "tags": []
   },
   "outputs": [
    {
     "name": "stdout",
     "output_type": "stream",
     "text": [
      "Learning rate set to 0.060838\n",
      "0:\ttotal: 113ms\tremaining: 1m 53s\n",
      "100:\ttotal: 8.19s\tremaining: 1m 12s\n",
      "200:\ttotal: 16.1s\tremaining: 1m 3s\n",
      "300:\ttotal: 23.9s\tremaining: 55.4s\n",
      "400:\ttotal: 32s\tremaining: 47.7s\n",
      "500:\ttotal: 40.1s\tremaining: 39.9s\n",
      "600:\ttotal: 48.2s\tremaining: 32s\n",
      "700:\ttotal: 56.3s\tremaining: 24s\n",
      "800:\ttotal: 1m 4s\tremaining: 16s\n",
      "900:\ttotal: 1m 12s\tremaining: 7.96s\n",
      "999:\ttotal: 1m 20s\tremaining: 0us\n"
     ]
    },
    {
     "data": {
      "text/plain": [
       "<catboost.core.CatBoostClassifier at 0x1ef504238b0>"
      ]
     },
     "execution_count": 14,
     "metadata": {},
     "output_type": "execute_result"
    }
   ],
   "source": [
    "simple_catb_important.fit(pool_full_important, verbose=100)"
   ]
  },
  {
   "cell_type": "markdown",
   "id": "d1a0f1f1-272f-475f-ba8a-b09017060032",
   "metadata": {},
   "source": [
    "## Predicting"
   ]
  },
  {
   "cell_type": "code",
   "execution_count": 15,
   "id": "8343ef4c-b286-409b-b45d-2cd4de49c560",
   "metadata": {
    "tags": []
   },
   "outputs": [],
   "source": [
    "predictions = simple_catb.predict_proba(X_pred)[:, 1]\n",
    "predictions_important = simple_catb_important.predict_proba(X_pred[important_features])[:, 1]"
   ]
  },
  {
   "cell_type": "code",
   "execution_count": 16,
   "id": "e205fcfb-1dff-4516-a09f-c1f4d72567c9",
   "metadata": {
    "tags": []
   },
   "outputs": [],
   "source": [
    "pd.DataFrame({'user_id': pred['user_id'], 'predict': predictions}).to_csv('simple_catb_ds_v0.1.csv', index=False)\n",
    "pd.DataFrame({'user_id': pred['user_id'], 'predict': predictions_important}).to_csv('simple_catb_important_ds_v0.1.csv', index=False)"
   ]
  },
  {
   "cell_type": "markdown",
   "id": "d034b59b-5ea8-4cc9-8a74-bdf77595b0fd",
   "metadata": {},
   "source": [
    "# Наблюдения\n",
    "\n",
    "Concordance index на сайте. Показатель базовой простой модели 0.7671:\n",
    "- отсечение неважных признаков не привело к улучшению качества модели (0.7647)\n",
    "- сокращение iterations до числа, когда срабатывает early_stopping, не привело к улучшению качества (однако при этом catboost сам изменил learning_rate с 0.087 до 0.14) (0.7621)\n",
    "- увеличение iterations до 2000 привело к улучшению (0.7696)"
   ]
  },
  {
   "cell_type": "markdown",
   "id": "1745006e-514a-49bf-baef-544dbfd03fc9",
   "metadata": {},
   "source": [
    "# Идеи\n",
    "\n",
    "- обучение на важных признаках но с большим числом итераций;\n",
    "- масштабирование данных;\n",
    "- приведение распределения transaction_amt к нормальному; "
   ]
  },
  {
   "cell_type": "code",
   "execution_count": null,
   "id": "7a56bb67-598f-417b-b95f-d8a072c26127",
   "metadata": {},
   "outputs": [],
   "source": []
  }
 ],
 "metadata": {
  "kernelspec": {
   "display_name": "survive-analysis",
   "language": "python",
   "name": "survive-analysis"
  },
  "language_info": {
   "codemirror_mode": {
    "name": "ipython",
    "version": 3
   },
   "file_extension": ".py",
   "mimetype": "text/x-python",
   "name": "python",
   "nbconvert_exporter": "python",
   "pygments_lexer": "ipython3",
   "version": "3.10.13"
  }
 },
 "nbformat": 4,
 "nbformat_minor": 5
}
