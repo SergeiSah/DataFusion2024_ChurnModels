{
 "cells": [
  {
   "cell_type": "code",
   "execution_count": 18,
   "id": "8fbb93ac-9547-4f71-9fa5-6b180671698e",
   "metadata": {
    "tags": []
   },
   "outputs": [],
   "source": [
    "import pandas as pd\n",
    "\n",
    "from sklearn.model_selection import train_test_split\n",
    "\n",
    "from catboost import CatBoostClassifier, Pool, cv"
   ]
  },
  {
   "cell_type": "code",
   "execution_count": 7,
   "id": "90818cff-5f31-4db7-b038-ab28192d89ea",
   "metadata": {
    "tags": []
   },
   "outputs": [],
   "source": [
    "full_df = pd.read_csv('datasets/preprocessed_v0.csv', compression='zip', \n",
    "                      dtype={'employee_count_nm': 'category', \n",
    "                             'bankemplstatus': 'bool',\n",
    "                             'customer_age': 'category'})"
   ]
  },
  {
   "cell_type": "code",
   "execution_count": 9,
   "id": "9d51b186-b4c9-4602-b64e-3d67ed9cd2c4",
   "metadata": {
    "tags": []
   },
   "outputs": [],
   "source": [
    "train = full_df[full_df['target'].notna()]\n",
    "pred = full_df[full_df['target'].isna()]"
   ]
  },
  {
   "cell_type": "code",
   "execution_count": 16,
   "id": "907705cf-fd0e-4a3c-bbd2-4f19fc12eb7c",
   "metadata": {
    "tags": []
   },
   "outputs": [],
   "source": [
    "cat_features = ['employee_count_nm', 'customer_age', 'bankemplstatus']\n",
    "cols_to_drop = ['user_id', 'report', 'target', 'time']"
   ]
  },
  {
   "cell_type": "code",
   "execution_count": 12,
   "id": "beb235ac-f690-491f-9ebc-7a0278cfc676",
   "metadata": {
    "tags": []
   },
   "outputs": [],
   "source": [
    "X = train.drop(cols_to_drop, axis=1)\n",
    "y = train['target']\n",
    "\n",
    "X_pred = pred.drop(cols_to_drop, axis=1)"
   ]
  },
  {
   "cell_type": "code",
   "execution_count": 17,
   "id": "421cfbd8-fb21-4312-baab-33d50d3f2d97",
   "metadata": {
    "tags": []
   },
   "outputs": [],
   "source": [
    "X_train, X_test, y_train, y_test = train_test_split(X, y, test_size=0.2, random_state=42, stratify=y)\n",
    "\n",
    "pool_train = Pool(X_train, y_train, cat_features=cat_features)\n",
    "pool_test = Pool(X_test, y_test, cat_features=cat_features)\n",
    "pool_full = Pool(X, y, cat_features=cat_features)"
   ]
  },
  {
   "cell_type": "markdown",
   "id": "9f4f9a4a-9c8a-4429-ac7b-2f2c2ddbffee",
   "metadata": {},
   "source": [
    "# Simple CatBoost"
   ]
  },
  {
   "cell_type": "markdown",
   "id": "ef932e6f-74bd-4a16-b27d-7c923604d9e8",
   "metadata": {},
   "source": [
    "## First training"
   ]
  },
  {
   "cell_type": "code",
   "execution_count": 20,
   "id": "2683df06-93da-43ac-a887-e4799e2a6d99",
   "metadata": {
    "tags": []
   },
   "outputs": [
    {
     "name": "stdout",
     "output_type": "stream",
     "text": [
      "Learning rate set to 0.083772\n",
      "0:\ttest: 0.6319318\tbest: 0.6319318 (0)\ttotal: 85ms\tremaining: 1m 24s\n",
      "100:\ttest: 0.7555323\tbest: 0.7556537 (97)\ttotal: 6.62s\tremaining: 58.9s\n",
      "200:\ttest: 0.7577043\tbest: 0.7581866 (151)\ttotal: 13.1s\tremaining: 52.1s\n",
      "300:\ttest: 0.7600537\tbest: 0.7603048 (290)\ttotal: 19.6s\tremaining: 45.6s\n",
      "400:\ttest: 0.7600792\tbest: 0.7605706 (321)\ttotal: 26.3s\tremaining: 39.3s\n",
      "Stopped by overfitting detector  (100 iterations wait)\n",
      "\n",
      "bestTest = 0.7605706004\n",
      "bestIteration = 321\n",
      "\n",
      "Shrink model to first 322 iterations.\n"
     ]
    },
    {
     "data": {
      "text/plain": [
       "<catboost.core.CatBoostClassifier at 0x1904b9db5b0>"
      ]
     },
     "execution_count": 20,
     "metadata": {},
     "output_type": "execute_result"
    }
   ],
   "source": [
    "simple_catb = CatBoostClassifier(random_state=42, eval_metric='AUC')\n",
    "\n",
    "simple_catb.fit(pool_train, \n",
    "                eval_set=pool_test, \n",
    "                verbose=100, \n",
    "                early_stopping_rounds=100\n",
    "               )"
   ]
  },
  {
   "cell_type": "markdown",
   "id": "da0def22-ae73-4305-ac90-87d8ece4e4ad",
   "metadata": {},
   "source": [
    "## Training on most important features"
   ]
  },
  {
   "cell_type": "code",
   "execution_count": 21,
   "id": "ebdc2223-8c59-4111-ae05-ebedf15e074f",
   "metadata": {
    "tags": []
   },
   "outputs": [],
   "source": [
    "importances = pd.DataFrame({\n",
    "    'feature': simple_catb.feature_names_,\n",
    "    'importance': simple_catb.feature_importances_\n",
    "}).sort_values(by='importance', ascending=False)"
   ]
  },
  {
   "cell_type": "code",
   "execution_count": 27,
   "id": "15807b7d-ea86-439f-9ee7-b556cd95b504",
   "metadata": {
    "tags": []
   },
   "outputs": [
    {
     "data": {
      "text/plain": [
       "318"
      ]
     },
     "execution_count": 27,
     "metadata": {},
     "output_type": "execute_result"
    }
   ],
   "source": [
    "threshold = 0.01\n",
    "\n",
    "important_features = importances[importances['importance'] > threshold]['feature'].values\n",
    "important_features.shape[0]"
   ]
  },
  {
   "cell_type": "code",
   "execution_count": 38,
   "id": "e4da667d-23b6-48bf-bb51-7dbf57fb5649",
   "metadata": {
    "tags": []
   },
   "outputs": [],
   "source": [
    "pool_train_important = Pool(X_train[important_features], y_train, cat_features=cat_features)\n",
    "pool_test_important = Pool(X_test[important_features], y_test, cat_features=cat_features)\n",
    "pool_full_important = Pool(X[important_features], y, cat_features=cat_features)"
   ]
  },
  {
   "cell_type": "code",
   "execution_count": 36,
   "id": "5cef46a8-2945-4270-8e82-4cb6bace2472",
   "metadata": {
    "tags": []
   },
   "outputs": [
    {
     "name": "stdout",
     "output_type": "stream",
     "text": [
      "Learning rate set to 0.083772\n",
      "0:\ttest: 0.6451405\tbest: 0.6451405 (0)\ttotal: 88.2ms\tremaining: 1m 28s\n",
      "100:\ttest: 0.7564544\tbest: 0.7566284 (96)\ttotal: 7.17s\tremaining: 1m 3s\n",
      "200:\ttest: 0.7586758\tbest: 0.7588857 (154)\ttotal: 14.1s\tremaining: 56s\n",
      "300:\ttest: 0.7603986\tbest: 0.7607122 (295)\ttotal: 21s\tremaining: 48.8s\n",
      "400:\ttest: 0.7616806\tbest: 0.7618045 (397)\ttotal: 28.1s\tremaining: 41.9s\n",
      "Stopped by overfitting detector  (100 iterations wait)\n",
      "\n",
      "bestTest = 0.7618044541\n",
      "bestIteration = 397\n",
      "\n",
      "Shrink model to first 398 iterations.\n"
     ]
    },
    {
     "data": {
      "text/plain": [
       "<catboost.core.CatBoostClassifier at 0x1904b86f5e0>"
      ]
     },
     "execution_count": 36,
     "metadata": {},
     "output_type": "execute_result"
    }
   ],
   "source": [
    "simple_catb_important = CatBoostClassifier(random_state=42, eval_metric='AUC')\n",
    "\n",
    "simple_catb_important.fit(pool_train_important, \n",
    "                          eval_set=pool_test_important, \n",
    "                          verbose=100, \n",
    "                          early_stopping_rounds=100\n",
    "                         )"
   ]
  },
  {
   "cell_type": "markdown",
   "id": "b58e1618-beb3-45e4-873c-06af4be88008",
   "metadata": {},
   "source": [
    "## Training on full dataset"
   ]
  },
  {
   "cell_type": "code",
   "execution_count": 46,
   "id": "afdf24ae-df64-4557-b401-cabbcc337339",
   "metadata": {
    "tags": []
   },
   "outputs": [
    {
     "name": "stdout",
     "output_type": "stream",
     "text": [
      "Learning rate set to 0.03222\n",
      "0:\ttotal: 91.5ms\tremaining: 3m 2s\n",
      "100:\ttotal: 7.99s\tremaining: 2m 30s\n",
      "200:\ttotal: 16s\tremaining: 2m 23s\n",
      "300:\ttotal: 23.9s\tremaining: 2m 14s\n",
      "400:\ttotal: 31.8s\tremaining: 2m 6s\n",
      "500:\ttotal: 39.7s\tremaining: 1m 58s\n",
      "600:\ttotal: 47.7s\tremaining: 1m 51s\n",
      "700:\ttotal: 55.7s\tremaining: 1m 43s\n",
      "800:\ttotal: 1m 3s\tremaining: 1m 35s\n",
      "900:\ttotal: 1m 11s\tremaining: 1m 27s\n",
      "1000:\ttotal: 1m 20s\tremaining: 1m 20s\n",
      "1100:\ttotal: 1m 28s\tremaining: 1m 12s\n",
      "1200:\ttotal: 1m 37s\tremaining: 1m 4s\n",
      "1300:\ttotal: 1m 45s\tremaining: 56.5s\n",
      "1400:\ttotal: 1m 53s\tremaining: 48.4s\n",
      "1500:\ttotal: 2m 1s\tremaining: 40.3s\n",
      "1600:\ttotal: 2m 9s\tremaining: 32.2s\n",
      "1700:\ttotal: 2m 17s\tremaining: 24.1s\n",
      "1800:\ttotal: 2m 25s\tremaining: 16.1s\n",
      "1900:\ttotal: 2m 33s\tremaining: 8s\n",
      "1999:\ttotal: 2m 41s\tremaining: 0us\n"
     ]
    },
    {
     "data": {
      "text/plain": [
       "<catboost.core.CatBoostClassifier at 0x1904b8f9510>"
      ]
     },
     "execution_count": 46,
     "metadata": {},
     "output_type": "execute_result"
    }
   ],
   "source": [
    "simple_catb = CatBoostClassifier(random_state=42, eval_metric='AUC', iterations=2000)\n",
    "simple_catb.fit(pool_full, verbose=100)"
   ]
  },
  {
   "cell_type": "code",
   "execution_count": 39,
   "id": "458655d1-cfbf-40e6-ac7e-8758352862de",
   "metadata": {
    "tags": []
   },
   "outputs": [
    {
     "name": "stdout",
     "output_type": "stream",
     "text": [
      "Learning rate set to 0.060838\n",
      "0:\ttotal: 90ms\tremaining: 1m 29s\n",
      "100:\ttotal: 7.54s\tremaining: 1m 7s\n",
      "200:\ttotal: 14.8s\tremaining: 59s\n",
      "300:\ttotal: 22.3s\tremaining: 51.7s\n",
      "400:\ttotal: 29.7s\tremaining: 44.4s\n",
      "500:\ttotal: 37.4s\tremaining: 37.2s\n",
      "600:\ttotal: 45.1s\tremaining: 29.9s\n",
      "700:\ttotal: 52.7s\tremaining: 22.5s\n",
      "800:\ttotal: 1m\tremaining: 15s\n",
      "900:\ttotal: 1m 8s\tremaining: 7.53s\n",
      "999:\ttotal: 1m 16s\tremaining: 0us\n"
     ]
    },
    {
     "data": {
      "text/plain": [
       "<catboost.core.CatBoostClassifier at 0x1904b86f5e0>"
      ]
     },
     "execution_count": 39,
     "metadata": {},
     "output_type": "execute_result"
    }
   ],
   "source": [
    "simple_catb_important.fit(pool_full_important, verbose=100)"
   ]
  },
  {
   "cell_type": "markdown",
   "id": "d1a0f1f1-272f-475f-ba8a-b09017060032",
   "metadata": {},
   "source": [
    "## Predicting"
   ]
  },
  {
   "cell_type": "code",
   "execution_count": 47,
   "id": "8343ef4c-b286-409b-b45d-2cd4de49c560",
   "metadata": {
    "tags": []
   },
   "outputs": [],
   "source": [
    "predictions = simple_catb.predict_proba(X_pred)[:, 1]\n",
    "predictions_important = simple_catb_important.predict_proba(X_pred[important_features])[:, 1]"
   ]
  },
  {
   "cell_type": "code",
   "execution_count": 48,
   "id": "e205fcfb-1dff-4516-a09f-c1f4d72567c9",
   "metadata": {
    "tags": []
   },
   "outputs": [],
   "source": [
    "pd.DataFrame({'user_id': pred['user_id'], 'predict': predictions}).to_csv('simple_catb_ds_v0.csv', index=False)\n",
    "pd.DataFrame({'user_id': pred['user_id'], 'predict': predictions_important}).to_csv('simple_catb_important_ds_v0.csv', index=False)"
   ]
  },
  {
   "cell_type": "markdown",
   "id": "d034b59b-5ea8-4cc9-8a74-bdf77595b0fd",
   "metadata": {},
   "source": [
    "# Наблюдения\n",
    "\n",
    "Concordance index на сайте. Показатель базовой простой модели 0.7671:\n",
    "- отсечение неважных признаков не привело к улучшению качества модели (0.7547)\n",
    "- сокращение iterations до числа, когда срабатывает early_stopping, не привело к улучшению качества (однако при этом catboost сам изменил learning_rate с 0.087 до 0.14) (0.7621)\n",
    "- увеличение iterations до 2000 привело к улучшению (0.7696)"
   ]
  },
  {
   "cell_type": "code",
   "execution_count": null,
   "id": "5db1865d-960d-473a-8400-fa2f8e9832b0",
   "metadata": {},
   "outputs": [],
   "source": []
  }
 ],
 "metadata": {
  "kernelspec": {
   "display_name": "survive-analysis",
   "language": "python",
   "name": "survive-analysis"
  },
  "language_info": {
   "codemirror_mode": {
    "name": "ipython",
    "version": 3
   },
   "file_extension": ".py",
   "mimetype": "text/x-python",
   "name": "python",
   "nbconvert_exporter": "python",
   "pygments_lexer": "ipython3",
   "version": "3.10.13"
  }
 },
 "nbformat": 4,
 "nbformat_minor": 5
}
