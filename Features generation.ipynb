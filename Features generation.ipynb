{
 "cells": [
  {
   "cell_type": "markdown",
   "id": "de553624-a287-4e13-ab98-c51d8df4c233",
   "metadata": {},
   "source": [
    "# Генерация новых признаков"
   ]
  },
  {
   "cell_type": "code",
   "execution_count": 1,
   "id": "0e4b4a8d-b5de-47ac-8e6f-9cddea31de83",
   "metadata": {},
   "outputs": [],
   "source": [
    "import pandas as pd\n",
    "import numpy as np"
   ]
  },
  {
   "cell_type": "code",
   "execution_count": 2,
   "id": "a94fc55d-a63c-485c-9f7a-553f87d35419",
   "metadata": {},
   "outputs": [],
   "source": [
    "# загружаем данные\n",
    "clients_df = pd.read_csv('datasets/clients.csv', dtype={'employee_count_nm': 'category', 'bankemplstatus': 'bool', 'customer_age': 'category'})\n",
    "train_df = pd.read_csv('datasets/train.csv', dtype={'target': 'bool'})\n",
    "reports_df = pd.read_csv('datasets/report_dates.csv', parse_dates=['report_dt'])\n",
    "transactions_df = pd.read_csv('datasets/transactions.csv.zip', compression='zip', \n",
    "                              dtype={'mcc_code': 'category', 'currency_rk': 'category'}, parse_dates=['transaction_dttm'])"
   ]
  },
  {
   "cell_type": "code",
   "execution_count": 3,
   "id": "52c72d0c-1fd1-4ed5-8d36-978609434b7f",
   "metadata": {
    "tags": []
   },
   "outputs": [],
   "source": [
    "# объединим два поддиапазона в один\n",
    "clients_df.loc[clients_df.employee_count_nm.isin(['ОТ 11 ДО 30', 'ОТ 31 ДО 50']), 'employee_count_nm'] = 'ОТ 11 ДО 50'\n",
    "\n",
    "# пока что определим \"БОЛЕЕ 500\" как \"ОТ 501 ДО 1000\"\n",
    "clients_df.loc[clients_df.employee_count_nm == 'БОЛЕЕ 500', 'employee_count_nm'] = 'ОТ 501 ДО 1000'\n",
    "\n",
    "# заполним пропуски как \"unknown\"\n",
    "clients_df['employee_count_nm'] = clients_df['employee_count_nm'].cat.add_categories('unknown')\n",
    "clients_df['employee_count_nm'] = clients_df['employee_count_nm'].fillna('unknown')\n",
    "\n",
    "# удалим лишние категории\n",
    "clients_df['employee_count_nm'] = clients_df['employee_count_nm'].cat.remove_unused_categories()\n",
    "\n",
    "# проранжируем категории\n",
    "clients_df['employee_count_nm'] = clients_df['employee_count_nm'].cat.reorder_categories(\n",
    "    ['ДО 10', 'ОТ 11 ДО 50', 'ОТ 51 ДО 100', 'ОТ 101 ДО 500', 'ОТ 501 ДО 1000', 'БОЛЕЕ 1001', 'unknown'], ordered=True)"
   ]
  },
  {
   "cell_type": "code",
   "execution_count": 4,
   "id": "6eba0d39-53be-4833-a622-88a5f8693c14",
   "metadata": {},
   "outputs": [],
   "source": [
    "transactions_df['tran_date'] = transactions_df['transaction_dttm'].dt.date              # дата транзакции\n",
    "transactions_df['tran_day_of_week'] = transactions_df['transaction_dttm'].dt.dayofweek  # день недели, в который была произведена транзакция\n",
    "transactions_df['tran_month'] = transactions_df['transaction_dttm'].dt.month            # месяц, в котором была произведена транзакция\n",
    "\n",
    "# была ли транзакция в рабочее время с 8:00 до 18:00 в рабочие дни\n",
    "transactions_df['is_tran_in_working_time'] = (transactions_df['transaction_dttm'].dt.hour >= 8) & (transactions_df['transaction_dttm'].dt.hour < 18) &\\\n",
    "                                             (transactions_df['tran_day_of_week'].isin([5, 6]))\n",
    "\n",
    "# была ли транзакция в выходные\n",
    "transactions_df['is_tran_in_weekend'] = transactions_df['tran_day_of_week'].isin([5, 6])\n",
    "\n",
    "transactions_df = transactions_df.merge(clients_df, on='user_id', how='left')\n",
    "transactions_df = transactions_df.merge(reports_df, on='report', how='left')\n",
    "\n",
    " # количество дней от транзакции до отчета\n",
    "transactions_df['days_from_tran_to_report'] = (transactions_df['report_dt'] - transactions_df['transaction_dttm']).dt.days"
   ]
  },
  {
   "cell_type": "code",
   "execution_count": 5,
   "id": "f7fb1203-8b54-467f-b3ee-4d023a1e0783",
   "metadata": {
    "tags": []
   },
   "outputs": [],
   "source": [
    "top_15_mcc = transactions_df.mcc_code.value_counts(normalize=True).head(15)\n",
    "\n",
    "currency_rk_freq = transactions_df.currency_rk.value_counts(normalize=True)\n",
    "currency_rk_most_freq = currency_rk_freq[currency_rk_freq > 0.01]"
   ]
  },
  {
   "cell_type": "code",
   "execution_count": 9,
   "id": "3a0e26c6-44a1-4773-aa0e-3c8923678047",
   "metadata": {},
   "outputs": [],
   "source": [
    "def generate_features_by_tendencies(transactions_df, start_name: str) -> pd.DataFrame:\n",
    "    day_of_week = {\n",
    "        0: 'monday',\n",
    "        1: 'tuesday',\n",
    "        2: 'wednesday',\n",
    "        3: 'thursday',\n",
    "        4: 'friday',\n",
    "        5: 'saturday',\n",
    "        6: 'sunday',\n",
    "    }\n",
    "    \n",
    "    tendencies = ['sum', 'mean', 'median', 'max', 'min', 'std', 'count']\n",
    "    \n",
    "    # тенденции по всем транзакциям за всё время\n",
    "    full_df = transactions_df.groupby('user_id').agg({'transaction_amt': tendencies}).reset_index()\n",
    "    full_df.columns = ['user_id'] + [f'{start_name}_tran_{tendency}' for tendency in tendencies]\n",
    "        \n",
    "    # тенденции по всем транзакциям за день\n",
    "    df = transactions_df.groupby(['user_id', 'tran_date']).agg({'transaction_amt': ['sum']}).reset_index()\n",
    "    df.columns = ['user_id', 'tran_date', 'tran_sum_by_day']\n",
    "    df = df.drop('tran_date', axis=1)\n",
    "    df = df.groupby('user_id').agg({'tran_sum_by_day': tendencies[1:-1]}).reset_index()\n",
    "    df.columns = ['user_id'] + [f'{start_name}_{col}_{tendency}' for col, tendency in df.columns[1:]]\n",
    "    full_df = full_df.merge(df, on='user_id', how='left')     \n",
    "    \n",
    "    # тенденции по всем транзакциям за месяц\n",
    "    df = transactions_df.groupby(['user_id', 'tran_month']).agg({'transaction_amt': ['sum']}).reset_index()\n",
    "    df.columns = ['user_id', 'tran_month', 'tran_sum_by_month']\n",
    "    df = df.drop('tran_month', axis=1)\n",
    "    df = df.groupby('user_id').agg({'tran_sum_by_month': tendencies[1:-1]}).reset_index()\n",
    "    df.columns = ['user_id'] + [f'{start_name}_{col}_{tendency}' for col, tendency in df.columns[1:]]\n",
    "    full_df = full_df.merge(df, on='user_id', how='left')\n",
    "    \n",
    "    # тенденции по всем транзакциям по дням недели\n",
    "    df = transactions_df.pivot_table(index='user_id', columns='tran_day_of_week', values='transaction_amt', aggfunc=tendencies).fillna(0).reset_index()\n",
    "    df.columns = ['user_id'] + [f'{start_name}_tran_{day_of_week[day]}_{tendency}' for tendency, day in df.columns[1:]]\n",
    "    \n",
    "    # число уникальных MCC кодов\n",
    "    full_df = full_df.merge(transactions_df.groupby('user_id')['mcc_code'].nunique().reset_index(name=f'{start_name}_mcc_nunique'), on='user_id', how='left')\n",
    "    \n",
    "    # тенденции по топ-15 mcc\n",
    "    df = transactions_df.query('mcc_code in @top_15_mcc.index.values').pivot_table(index='user_id', values='transaction_amt', columns='mcc_code', \n",
    "                                                                                   aggfunc=tendencies, observed=True).fillna(0).reset_index()\n",
    "    df.columns = ['user_id'] + [f'{start_name}_mcc_{mcc}_{tendency}' for tendency, mcc in df.columns[1:]]\n",
    "    full_df = full_df.merge(df, on='user_id', how='left')\n",
    "    \n",
    "    # тенденции по всем транзакциям по виду валюты\n",
    "    df = transactions_df.query('currency_rk in @currency_rk_most_freq.index').pivot_table(index='user_id', columns='currency_rk', values='transaction_amt', \n",
    "                                                                                     aggfunc='count', observed=True).reset_index()\n",
    "    df.columns = ['user_id'] + [f'{start_name}_currency_{col}_count' for col in df.columns[1:]]\n",
    "    full_df = full_df.merge(df, on='user_id', how='left')\n",
    "    \n",
    "    full_df = full_df.fillna(0)\n",
    "    \n",
    "    # число уникальных дней и месяцев транзакций\n",
    "    full_df = full_df.merge(transactions_df.groupby('user_id')['tran_date'].nunique().reset_index(name=f'{start_name}_tran_date_nunique'), on='user_id', how='left')\n",
    "    full_df = full_df.merge(transactions_df.groupby('user_id')['tran_month'].nunique().reset_index(name=f'{start_name}_tran_month_nunique'), on='user_id', how='left')\n",
    "    \n",
    "    # тенденции по транзакциям в рабочее время\n",
    "    df = transactions_df.pivot_table(index='user_id', columns='is_tran_in_working_time', values='transaction_amt', aggfunc=tendencies).fillna(0).reset_index()\n",
    "    df.columns = ['user_id'] + [f'{start_name}_tran_in_working_time_({is_true})_{tendency}' for tendency, is_true in df.columns[1:]]\n",
    "    full_df = full_df.merge(df, on='user_id', how='left')\n",
    "    \n",
    "    # тенденции по транзакциям в выходные\n",
    "    df = transactions_df.pivot_table(index='user_id', columns='is_tran_in_weekend', values='transaction_amt', aggfunc=tendencies).fillna(0).reset_index()\n",
    "    df.columns = ['user_id'] + [f'{start_name}_tran_in_weekend_({is_true})_{tendency}' for tendency, is_true in df.columns[1:]]\n",
    "    full_df = full_df.merge(df, on='user_id', how='left')\n",
    "    \n",
    "    # тенденции по времени до отчета\n",
    "    df = transactions_df.groupby('user_id').agg({'days_from_tran_to_report': tendencies[1:-1]}).reset_index()\n",
    "    df.columns = ['user_id'] + [f'{start_name}_days_to_report_{tendency}' for _, tendency in df.columns[1:]]\n",
    "    full_df = full_df.merge(df, on='user_id', how='left')    \n",
    "    \n",
    "    return full_df"
   ]
  },
  {
   "cell_type": "code",
   "execution_count": 10,
   "id": "3cfe9fd8-b14a-4482-bb93-2807fc289aaa",
   "metadata": {
    "tags": []
   },
   "outputs": [],
   "source": [
    "def generate_features(transactions, clients, train) -> pd.DataFrame:\n",
    "    full_df = clients[['user_id']]\n",
    "    \n",
    "    for tran_type in ['total', 'pos', 'neg']:\n",
    "        print(f'Generating features by {tran_type} transactions ...')\n",
    "        \n",
    "        if tran_type == 'total':\n",
    "            transactions_df = transactions.copy()\n",
    "        elif tran_type == 'pos':\n",
    "            transactions_df = transactions[transactions['transaction_amt'] > 0].copy()\n",
    "        elif tran_type == 'neg':\n",
    "            transactions_df = transactions[transactions['transaction_amt'] < 0].copy()\n",
    "            \n",
    "        full_df = full_df.merge(generate_features_by_tendencies(transactions_df, tran_type), on='user_id', how='left')\n",
    "        \n",
    "    full_df = clients_df.merge(full_df, on='user_id', how='left')\n",
    "    \n",
    "    num_cols = [col for col in full_df.columns if col not in ['user_id', 'report', 'employee_count_nm', 'bankemplstatus', 'customer_age']]\n",
    "    for col in num_cols:\n",
    "        full_df[col] = pd.to_numeric(full_df[col])\n",
    "        \n",
    "    full_df[num_cols] = full_df[num_cols].fillna(0)\n",
    "    full_df = full_df.merge(train, on='user_id', how='left')\n",
    "        \n",
    "    return full_df"
   ]
  },
  {
   "cell_type": "code",
   "execution_count": 11,
   "id": "029d8b00-f6c4-4ca3-a70f-f07bcc24d51c",
   "metadata": {
    "tags": []
   },
   "outputs": [
    {
     "name": "stdout",
     "output_type": "stream",
     "text": [
      "Generating features by total transactions ...\n",
      "Generating features by pos transactions ...\n",
      "Generating features by neg transactions ...\n"
     ]
    }
   ],
   "source": [
    "full_df = generate_features(transactions_df, clients_df, train_df)"
   ]
  },
  {
   "cell_type": "code",
   "execution_count": 14,
   "id": "7e541d42-1d21-4443-b4e7-b77a6e37b625",
   "metadata": {
    "tags": []
   },
   "outputs": [],
   "source": [
    "full_df.to_csv('datasets/preprocessed_v0.1.csv', index=False, compression='zip')"
   ]
  },
  {
   "cell_type": "code",
   "execution_count": 15,
   "id": "f69dc8a1-6bae-46c9-8733-6071776bd9ba",
   "metadata": {
    "tags": []
   },
   "outputs": [
    {
     "name": "stdout",
     "output_type": "stream",
     "text": [
      "<class 'pandas.core.frame.DataFrame'>\n",
      "RangeIndex: 96000 entries, 0 to 95999\n",
      "Columns: 487 entries, user_id to time\n",
      "dtypes: bool(1), category(2), float64(475), int64(8), object(1)\n",
      "memory usage: 354.8+ MB\n"
     ]
    }
   ],
   "source": [
    "full_df.info()"
   ]
  },
  {
   "cell_type": "code",
   "execution_count": null,
   "id": "760612b9-c0a1-4170-bb72-25f111b55232",
   "metadata": {},
   "outputs": [],
   "source": []
  }
 ],
 "metadata": {
  "kernelspec": {
   "display_name": "survive-analysis",
   "language": "python",
   "name": "survive-analysis"
  },
  "language_info": {
   "codemirror_mode": {
    "name": "ipython",
    "version": 3
   },
   "file_extension": ".py",
   "mimetype": "text/x-python",
   "name": "python",
   "nbconvert_exporter": "python",
   "pygments_lexer": "ipython3",
   "version": "3.10.13"
  }
 },
 "nbformat": 4,
 "nbformat_minor": 5
}
